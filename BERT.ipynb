{
 "cells": [
  {
   "cell_type": "markdown",
   "id": "f79cc8fc",
   "metadata": {},
   "source": [
    "# Import Library"
   ]
  },
  {
   "cell_type": "markdown",
   "id": "5c5d4f9e",
   "metadata": {},
   "source": [
    "Reference: https://github.com/google-research/bert"
   ]
  },
  {
   "cell_type": "code",
   "execution_count": 8,
   "id": "325fe059",
   "metadata": {},
   "outputs": [],
   "source": [
    "import pandas as pd\n",
    "import os\n",
    "from sklearn.preprocessing import LabelEncoder\n",
    "from sklearn.model_selection import train_test_split\n",
    "\n",
    "# Library for XML parsing\n",
    "import xml.etree.ElementTree as ET"
   ]
  },
  {
   "cell_type": "markdown",
   "id": "292d5a68",
   "metadata": {},
   "source": [
    "# Data Processing"
   ]
  },
  {
   "cell_type": "code",
   "execution_count": 9,
   "id": "a27703af",
   "metadata": {},
   "outputs": [],
   "source": [
    "path = \"training_t2\"\n",
    "training_dir = \"TRAINING_DATA\"\n",
    "data_2017_path = \"2017_cases\"\n",
    "data_2018_path = \"2018_cases\"\n",
    "pos = \"pos\"\n",
    "neg = \"neg\""
   ]
  },
  {
   "cell_type": "code",
   "execution_count": 34,
   "id": "22c38fb0",
   "metadata": {},
   "outputs": [],
   "source": [
    "pos_2018_path = os.path.join(path, training_dir, data_2018_path, pos)\n",
    "neg_2018_path = os.path.join(path, training_dir, data_2018_path, neg)\n",
    "\n",
    "# List of all the file name:\n",
    "pos_2018_list = os.listdir(pos_2018_path)\n",
    "neg_2018_list = os.listdir(neg_2018_path)\n"
   ]
  },
  {
   "cell_type": "code",
   "execution_count": 48,
   "id": "a062f6b9",
   "metadata": {},
   "outputs": [],
   "source": [
    "data_list = []\n",
    "total = 0\n",
    "for file_name in pos_2018_list:\n",
    "    file_path = os.path.join(pos_2018_path, file_name)\n",
    "    tree = ET.parse(file_path)\n",
    "    for child in root:\n",
    "        for grand_child in child:\n",
    "            if grand_child.tag == \"TEXT\":\n",
    "                data_list.append([total, 1, 'a', grand_child.text.replace('\\n', '')])\n",
    "                total += 1\n",
    "\n",
    "for file_name in neg_2018_list:\n",
    "    file_path = os.path.join(neg_2018_path, file_name)\n",
    "    tree = ET.parse(file_path)\n",
    "    for child in root:\n",
    "        for grand_child in child:\n",
    "            if grand_child.tag == \"TEXT\":\n",
    "                data_list.append([total, 0, 'a', grand_child.text.replace('\\n', '')])\n",
    "                total += 1"
   ]
  },
  {
   "cell_type": "code",
   "execution_count": 52,
   "id": "5080477a",
   "metadata": {},
   "outputs": [],
   "source": [
    "df = pd.DataFrame(data=data_list, columns=[\"index\", \"label\", \"alpha\", \"text\"])\n",
    "df_bert_train, df_bert_test = train_test_split(df, test_size=0.2)"
   ]
  },
  {
   "cell_type": "code",
   "execution_count": 53,
   "id": "53586447",
   "metadata": {},
   "outputs": [],
   "source": [
    "df_bert_train.to_csv('bert/data/train.tsv', sep='\\t', index=False, header=False)\n",
    "df_bert_test.to_csv('bert/data/test.tsv', sep='\\t', index=False, header=False)"
   ]
  },
  {
   "cell_type": "code",
   "execution_count": 54,
   "id": "a4e4c820",
   "metadata": {},
   "outputs": [],
   "source": [
    "terminal_command = \"python3 run_classifier.py  \\\n",
    "--task_name=cola  \\\n",
    "--do_train=true  \\\n",
    "--do_eval=true  \\\n",
    "--do_predict=true \\\n",
    "--data_dir=./data/ \\\n",
    "--vocab_file=./cased_L-12_H-768_A-12/vocab.txt \\\n",
    "--bert_config_file=./cased_L-12_H-768_A-12/bert_config.json \\\n",
    "--init_checkpoint=./cased_L-12_H-768_A-12/bert_model.ckpt \\\n",
    "--max_seq_length=128 \\\n",
    "--train_batch_size=32 \\\n",
    "--learning_rate=2e-5 \\\n",
    "--num_train_epochs=3.0 \\\n",
    "--output_dir=./bert_output/ \\\n",
    "--do_lower_case=False\""
   ]
  },
  {
   "cell_type": "code",
   "execution_count": null,
   "id": "1aa726f3",
   "metadata": {},
   "outputs": [],
   "source": []
  }
 ],
 "metadata": {
  "kernelspec": {
   "display_name": "Python 3 (ipykernel)",
   "language": "python",
   "name": "python3"
  },
  "language_info": {
   "codemirror_mode": {
    "name": "ipython",
    "version": 3
   },
   "file_extension": ".py",
   "mimetype": "text/x-python",
   "name": "python",
   "nbconvert_exporter": "python",
   "pygments_lexer": "ipython3",
   "version": "3.9.12"
  }
 },
 "nbformat": 4,
 "nbformat_minor": 5
}
