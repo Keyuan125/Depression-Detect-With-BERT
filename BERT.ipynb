{
 "cells": [
  {
   "cell_type": "markdown",
   "id": "2a8ff36d",
   "metadata": {},
   "source": [
    "# Import Library"
   ]
  },
  {
   "cell_type": "markdown",
   "id": "8f2f3651",
   "metadata": {},
   "source": [
    "Reference: https://github.com/google-research/bert"
   ]
  },
  {
   "cell_type": "code",
   "execution_count": 124,
   "id": "de387197",
   "metadata": {},
   "outputs": [],
   "source": [
    "import pandas as pd\n",
    "import os\n",
    "from sklearn.preprocessing import LabelEncoder\n",
    "from sklearn.model_selection import train_test_split\n",
    "\n",
    "# Library for XML parsing\n",
    "import xml.etree.ElementTree as ET"
   ]
  },
  {
   "cell_type": "markdown",
   "id": "e10d3cd9",
   "metadata": {},
   "source": [
    "# Data Processing"
   ]
  },
  {
   "cell_type": "code",
   "execution_count": 125,
   "id": "22bcef67",
   "metadata": {},
   "outputs": [],
   "source": [
    "path = \"training_t2\"\n",
    "training_dir = \"TRAINING_DATA\"\n",
    "data_2017_path = \"2017_cases\"\n",
    "data_2018_path = \"2018_cases\"\n",
    "pos = \"pos\"\n",
    "neg = \"neg\""
   ]
  },
  {
   "cell_type": "code",
   "execution_count": 126,
   "id": "970fb0a1",
   "metadata": {},
   "outputs": [],
   "source": [
    "pos_2018_path = os.path.join(path, training_dir, data_2018_path, pos)\n",
    "neg_2018_path = os.path.join(path, training_dir, data_2018_path, neg)\n",
    "\n",
    "# List of all the file name:\n",
    "pos_2018_list = os.listdir(pos_2018_path)\n",
    "neg_2018_list = os.listdir(neg_2018_path)\n"
   ]
  },
  {
   "cell_type": "code",
   "execution_count": 128,
   "id": "f5496a5c",
   "metadata": {},
   "outputs": [],
   "source": [
    "data_list = []\n",
    "total = 0\n",
    "for file_name in pos_2018_list:\n",
    "    file_path = os.path.join(pos_2018_path, file_name)\n",
    "    tree = ET.parse(file_path)\n",
    "    root = tree.getroot()\n",
    "    for child in root:\n",
    "        for grand_child in child:\n",
    "            if grand_child.tag == \"TEXT\":\n",
    "                text = grand_child.text.replace('\\n', '')\n",
    "                \n",
    "                if not text.isspace():\n",
    "                    data_list.append([total, 1, 'a', text])\n",
    "                    total += 1\n",
    "for file_name in neg_2018_list:\n",
    "    file_path = os.path.join(neg_2018_path, file_name)\n",
    "    tree = ET.parse(file_path)\n",
    "    root = tree.getroot()\n",
    "    for child in root:\n",
    "        for grand_child in child:\n",
    "            if grand_child.tag == \"TEXT\":\n",
    "                text = grand_child.text.replace('\\n', '')\n",
    "                if not text.isspace():\n",
    "                    data_list.append([total, 0, 'a', text])\n",
    "                    total += 1"
   ]
  },
  {
   "cell_type": "code",
   "execution_count": 129,
   "id": "45afc7ca",
   "metadata": {},
   "outputs": [],
   "source": [
    "df = pd.DataFrame(data=data_list, columns=[\"index\", \"label\", \"alpha\", \"text\"])\n",
    "df_bert_train_val, df_bert_test = train_test_split(df, test_size=0.2)\n",
    "df_berf_train, df_berf_val = train_test_split(df_bert_train_val, test_size=0.2)"
   ]
  },
  {
   "cell_type": "code",
   "execution_count": 131,
   "id": "c6332ca4",
   "metadata": {},
   "outputs": [],
   "source": [
    "df_bert_train.to_csv('bert/data/train.tsv', sep='\\t', index=False, header=False)\n",
    "df_bert_test.to_csv('bert/data/test.tsv', sep='\\t', index=False, header=False)\n",
    "df_berf_val.to_csv('bert/data/dev.tsv', sep='\\t', index=False, header=False)"
   ]
  },
  {
   "cell_type": "code",
   "execution_count": null,
   "id": "e273ca4e",
   "metadata": {},
   "outputs": [],
   "source": [
    "terminal_command = \"python3 run_classifier.py  \\\n",
    "--task_name=cola  \\\n",
    "--do_train=true  \\\n",
    "--do_eval=true  \\\n",
    "--do_predict=true \\\n",
    "--data_dir=./data/ \\\n",
    "--vocab_file=./uncased_L-2_H-128_A-2/vocab.txt \\\n",
    "--bert_config_file=./uncased_L-2_H-128_A-2/bert_config.json \\\n",
    "--init_checkpoint=./uncased_L-2_H-128_A-2/bert_model.ckpt \\\n",
    "--max_seq_length=64 \\\n",
    "--train_batch_size=16 \\\n",
    "--learning_rate=2e-5 \\\n",
    "--num_train_epochs=2 \\\n",
    "--output_dir=./bert_output/ \\\n",
    "--do_lower_case=True\""
   ]
  },
  {
   "cell_type": "code",
   "execution_count": null,
   "id": "9330fe66",
   "metadata": {},
   "outputs": [],
   "source": []
  }
 ],
 "metadata": {
  "kernelspec": {
   "display_name": "Python 3 (ipykernel)",
   "language": "python",
   "name": "python3"
  },
  "language_info": {
   "codemirror_mode": {
    "name": "ipython",
    "version": 3
   },
   "file_extension": ".py",
   "mimetype": "text/x-python",
   "name": "python",
   "nbconvert_exporter": "python",
   "pygments_lexer": "ipython3",
   "version": "3.9.12"
  }
 },
 "nbformat": 4,
 "nbformat_minor": 5
}
